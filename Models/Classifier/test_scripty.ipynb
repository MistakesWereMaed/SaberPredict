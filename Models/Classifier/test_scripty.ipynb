{
 "cells": [
  {
   "cell_type": "code",
   "execution_count": null,
   "id": "7b8f06b7",
   "metadata": {},
   "outputs": [],
   "source": [
    "import numpy as np\n",
    "\n",
    "from gcn_dataloader import sabre_dataset\n",
    "\n",
    "import torch\n",
    "\n",
    "from torch.utils.data import DataLoader, random_split\n",
    "from torch_geometric.nn.models import GCN"
   ]
  },
  {
   "cell_type": "code",
   "execution_count": null,
   "id": "d3f40b8e",
   "metadata": {},
   "outputs": [],
   "source": [
    "fl_for_yaml = \"/Users/johannesbauer/Documents/Coding/SaberPredict/data/test_2.yaml\"\n",
    "ds = sabre_dataset(fl_for_yaml)\n",
    "train_ds, test_ds = random_split(ds, [0.8, 0.2])"
   ]
  },
  {
   "cell_type": "code",
   "execution_count": null,
   "id": "8e3a847d",
   "metadata": {},
   "outputs": [],
   "source": [
    "data_loader =  DataLoader(train_ds, batch_size = 10, shuffle=True)"
   ]
  },
  {
   "cell_type": "code",
   "execution_count": null,
   "id": "bae18131",
   "metadata": {},
   "outputs": [],
   "source": [
    "print(ds.data[1][\"edge_index\"])"
   ]
  },
  {
   "cell_type": "code",
   "execution_count": null,
   "id": "41b3994a",
   "metadata": {},
   "outputs": [],
   "source": [
    "new_model = GCN(in_channels=-1, hidden_channels=3, num_layers=2, out_channels=10)"
   ]
  },
  {
   "cell_type": "code",
   "execution_count": null,
   "id": "af555158",
   "metadata": {},
   "outputs": [],
   "source": [
    "a = ds.data[0].x\n",
    "b = ds.data[0].y\n",
    "c = ds.data[0].edge_index"
   ]
  },
  {
   "cell_type": "code",
   "execution_count": null,
   "id": "0390c4dc",
   "metadata": {},
   "outputs": [],
   "source": [
    "a"
   ]
  },
  {
   "cell_type": "code",
   "execution_count": null,
   "id": "f2c4e8b0",
   "metadata": {},
   "outputs": [],
   "source": [
    "new_model"
   ]
  },
  {
   "cell_type": "code",
   "execution_count": null,
   "id": "75a1d42e",
   "metadata": {},
   "outputs": [],
   "source": [
    "new_model(x=a, edge_index=torch.tensor(np.array(c), dtype=torch.int))"
   ]
  },
  {
   "cell_type": "code",
   "execution_count": null,
   "id": "e5f07b62",
   "metadata": {},
   "outputs": [],
   "source": []
  }
 ],
 "metadata": {
  "kernelspec": {
   "display_name": "graph_env",
   "language": "python",
   "name": "python3"
  },
  "language_info": {
   "codemirror_mode": {
    "name": "ipython",
    "version": 3
   },
   "file_extension": ".py",
   "mimetype": "text/x-python",
   "name": "python",
   "nbconvert_exporter": "python",
   "pygments_lexer": "ipython3",
   "version": "3.12.11"
  }
 },
 "nbformat": 4,
 "nbformat_minor": 5
}
